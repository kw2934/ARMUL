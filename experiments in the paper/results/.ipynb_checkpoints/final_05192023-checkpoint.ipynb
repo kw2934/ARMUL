{
 "cells": [
  {
   "cell_type": "code",
   "execution_count": 1,
   "id": "ef91fc53",
   "metadata": {},
   "outputs": [],
   "source": [
    "import numpy as np\n",
    "import matplotlib.pyplot as plt\n",
    "import pickle\n"
   ]
  },
  {
   "cell_type": "code",
   "execution_count": 15,
   "id": "401b824a",
   "metadata": {},
   "outputs": [
    {
     "name": "stdout",
     "output_type": "stream",
     "text": [
      "{'vanilla': [1.1226184660478749, 0.024919106446713163], 'ITL': [1.953590620420127, 0.03229034481378435], 'DP_base': [3.4792379091353207, 0.03852547680012407]}\n"
     ]
    }
   ],
   "source": [
    "# Real data\n",
    "\n",
    "#model_list = ['vanilla', 'lowrank', 'clustered', 'STL', 'DP_base', 'lowrank_base', 'clustered_base']\n",
    "#S1 = set(model_list[0:3])\n",
    "\n",
    "model_list = ['vanilla', 'ITL', 'DP_base']\n",
    "S1 = set(model_list[0:1])\n",
    "\n",
    "\n",
    "\n",
    "I, S = 10, 10\n",
    "seed_list = []\n",
    "tmp = np.array(range(1, S + 1)) * 10000\n",
    "for idx in range(I):\n",
    "    for i in range(S):\n",
    "        seed_list.append( tmp[i] + idx * 1000 )    \n",
    "\n",
    "ans = dict()\n",
    "\n",
    "for model in model_list:\n",
    "    path = 'real_{}'.format( model )\n",
    "    results = dict()\n",
    "    tmp = np.zeros(len(seed_list))\n",
    "\n",
    "    for (j, seed) in enumerate(seed_list):\n",
    "        with open(path + '/{}.txt'.format(seed), \"rb\") as fp:\n",
    "            results[j] = pickle.load(fp)\n",
    "        if model in S1:\n",
    "            tmp[j] = results[j][0][0]['average error']\n",
    "        else:       \n",
    "            tmp[j] = results[j][0]['average error']\n",
    "    \n",
    "    tmp *= 100\n",
    "\n",
    "    ans[model] = [np.mean(tmp), np.std(tmp) / np.sqrt(len(tmp))]\n",
    "\n",
    "print(ans)\n",
    "\n",
    "\n",
    "\n",
    "# 100 seeds (correct)\n",
    "# {'vanilla': [1.1226184660478749, 0.24919106446713163], \n",
    "# 'lowrank': [0.7962872496336104, 0.19251646795542773], \n",
    "# 'clustered': [0.8353688324377138, 0.21677291384791197], \n",
    "# 'STL': [1.953590620420127, 0.3229034481378435], \n",
    "# 'DP_base': [3.4792379091353207, 0.38525476800124064], \n",
    "# 'lowrank_base': [1.3023937469467513, 0.2296791238553636], \n",
    "# 'clustered_base': [2.1470444553004397, 0.3252511019133582]}\n",
    "\n",
    "\n",
    "# 100 seeds (old)\n",
    "# {'vanilla': [1.0884220810942844, 0.24299427856005554], \n",
    "# 'lowrank': [0.8363458720078164, 0.20474516356774367], \n",
    "# 'clustered': [0.8387884709330728, 0.21484375907655667], \n",
    "# 'STL': [1.937469467513434, 0.3032145930433446], \n",
    "# 'DP_base': [3.490962383976551, 0.3660587985034221], '\n",
    "# lowrank_base': [1.2799218368343919, 0.24051848803304682],\n",
    "# 'clustered_base': [2.1778212017586713, 0.313200241053182]}\n",
    "\n",
    "\n",
    "# 50 seeds (old)\n",
    "# STL: 0.01933561309233024 0.003117491218757519\n",
    "# vanilla: 0.010561797752808988 0.0020654394666409486\n",
    "# DP: 0.034245236932095746 0.00319037457103189\n",
    "# clustered: 0.008265754763067906 0.002067633659624629\n",
    "# clustered_base: 0.021485100146555934 0.002936796325000805\n",
    "# lowrank: 0.007972642892037127 0.0018394310658702423\n",
    "# lowrank_base: 0.012525647288715192 0.002532323720541887\n",
    "\n"
   ]
  },
  {
   "cell_type": "code",
   "execution_count": 22,
   "id": "6fc4f594",
   "metadata": {},
   "outputs": [
    {
     "data": {
      "image/png": "[encoded data removed]",
      "text/plain": [
       "<Figure size 1000x300 with 3 Axes>"
      ]
     },
     "metadata": {},
     "output_type": "display_data"
    }
   ],
   "source": [
    "# Simulations\n",
    "\n",
    "\n",
    "epsilon = 0.2 # 0 or 0.2\n",
    "idx_set = 'S' # all or S\n",
    "\n",
    "#setting_list = ['vanilla', 'clustered', 'lowrank']\n",
    "setting_list = ['vanilla']\n",
    "delta_list = [(i / 10) for i in range(11)]\n",
    "\n",
    "S = 10\n",
    "seed_list = []\n",
    "for idx in range(1, 11):\n",
    "    tmp = np.array(range(1, S + 1)) * 10000 # random seeds\n",
    "    for i in range(S):\n",
    "        seed_list.append( tmp[i] + (idx - 1) * 1000 )\n",
    "M = len(seed_list)\n",
    "\n",
    "\n",
    "def plot_curves(fig, mean, sd, lst, marker, color):\n",
    "    fig.fill_between(lst, mean - sd, mean + sd, alpha = 0.2, color = color)\n",
    "    fig.plot(lst, mean, marker, color = color)    \n",
    "    fig.set_ylim([0, 3])\n",
    "\n",
    "fig, axes = plt.subplots(1, 3, figsize = (10, 3))\n",
    "\n",
    "for (i, setting) in enumerate(setting_list):\n",
    "    path = 'synthetic_' + setting\n",
    "    results = dict()\n",
    "    results['ARMUL'] = np.zeros((11, M))\n",
    "    results['STL'] = np.zeros((11, M))\n",
    "    results['DP'] = np.zeros((11, M))\n",
    "    results['baseline'] = np.zeros((11, M))\n",
    "\n",
    "    for (s, seed) in enumerate(seed_list):\n",
    "        with open(path + '/{}.txt'.format(seed), \"rb\") as fp:\n",
    "            lst = pickle.load(fp)\n",
    "\n",
    "        for (idx_delta, delta) in enumerate(delta_list):\n",
    "            # max over S\n",
    "            tmp = lst[(epsilon, delta, idx_set)]\n",
    "            results['ARMUL'][idx_delta, s] = np.max( np.array(tmp['ARMUL']) )\n",
    "            results['STL'][idx_delta, s] = np.max( np.array(tmp['STL']) )\n",
    "            results['DP'][idx_delta, s] = np.max( np.array(tmp['DP']) )\n",
    "            if setting == 'clustered' or setting == 'lowrank':\n",
    "                results['baseline'][idx_delta, s] = np.max( np.array(tmp['baseline']) )\n",
    "\n",
    "    names = ['ARMUL', 'STL', 'DP', 'baseline']\n",
    "    Mean = dict()\n",
    "    SD = dict()\n",
    "\n",
    "    for name in names:\n",
    "        Mean[name] = np.zeros(11)\n",
    "        SD[name] = np.zeros(11)\n",
    "        for j in range(11):\n",
    "            SD[name][j] = np.std(results[name][j]) #/ np.sqrt( len(results[name][j]) )\n",
    "            Mean[name][j] = np.mean(results[name][j])\n",
    "    \n",
    "    plot_curves(axes[i], Mean['ARMUL'], SD['ARMUL'], delta_list, marker = '-', color = 'r')\n",
    "    plot_curves(axes[i], Mean['STL'], SD['STL'], delta_list, marker = '--', color = 'k')\n",
    "    plot_curves(axes[i], Mean['DP'], SD['DP'], delta_list, marker = '^-', color = 'b')\n",
    "    if setting == 'clustered' or setting == 'lowrank':\n",
    "        plot_curves(axes[i], Mean['baseline'], SD['baseline'], delta_list, marker = 'o-', color = 'c') \n",
    "    \n",
    "if epsilon == 0:\n",
    "    axes[0].set_title('Vanilla')\n",
    "    axes[1].set_title('Clustered')\n",
    "    axes[2].set_title('Low-rank')\n",
    "    fig.savefig('epsilon_0.pdf', format = 'pdf')\n",
    "else: # epsilon == 0.2\n",
    "    if idx_set == 'S':\n",
    "        axes[0].set_title('Vanilla (S)')\n",
    "        axes[1].set_title('Clustered (S)')\n",
    "        axes[2].set_title('Low-rank (S)')\n",
    "        fig.savefig('epsilon_2_S.pdf', format = 'pdf')\n",
    "    else: # idx_set == 'all'\n",
    "        axes[0].set_title('Vanilla (all)')\n",
    "        axes[1].set_title('Clustered (all)')\n",
    "        axes[2].set_title('Low-rank (all)')\n",
    "        fig.savefig('epsilon_2_all.pdf', format = 'pdf')\n",
    "    \n",
    "\n",
    "    "
   ]
  },
  {
   "cell_type": "code",
   "execution_count": null,
   "id": "e65feac4",
   "metadata": {},
   "outputs": [],
   "source": []
  },
  {
   "cell_type": "code",
   "execution_count": null,
   "id": "bac0f216",
   "metadata": {},
   "outputs": [],
   "source": []
  },
  {
   "cell_type": "code",
   "execution_count": 6,
   "id": "de65a1ca",
   "metadata": {},
   "outputs": [
    {
     "data": {
      "image/png": "[encoded data removed]",
      "text/plain": [
       "<Figure size 1000x300 with 3 Axes>"
      ]
     },
     "metadata": {},
     "output_type": "display_data"
    }
   ],
   "source": [
    "# Simulations\n",
    "\n",
    "\n",
    "epsilon = 0.2 # 0 or 0.2\n",
    "idx_set = 'S' # all or S\n",
    "\n",
    "setting_list = ['vanilla', 'clustered', 'lowrank']\n",
    "delta_list = [(i / 10) for i in range(11)]\n",
    "\n",
    "S = 10\n",
    "seed_list = []\n",
    "for idx in range(1, 11):\n",
    "    tmp = np.array(range(1, S + 1)) * 10000 # random seeds\n",
    "    for i in range(S):\n",
    "        seed_list.append( tmp[i] + (idx - 1) * 1000 )\n",
    "M = len(seed_list)\n",
    "\n",
    "\n",
    "def plot_curves(fig, mean, sd, lst, marker, color):\n",
    "    fig.fill_between(lst, mean - sd, mean + sd, alpha = 0.2, color = color)\n",
    "    fig.plot(lst, mean, marker, color = color)    \n",
    "    fig.set_ylim([0, 3])\n",
    "\n",
    "fig, axes = plt.subplots(1, 3, figsize = (10, 3))\n",
    "\n",
    "for (i, setting) in enumerate(setting_list):\n",
    "    path = 'synthetic/synthetic_' + setting\n",
    "    results = dict()\n",
    "    results['ARMUL'] = np.zeros((11, M))\n",
    "    results['STL'] = np.zeros((11, M))\n",
    "    results['DP'] = np.zeros((11, M))\n",
    "    results['baseline'] = np.zeros((11, M))\n",
    "\n",
    "    for (s, seed) in enumerate(seed_list):\n",
    "        with open(path + '/{}.txt'.format(seed), \"rb\") as fp:\n",
    "            lst = pickle.load(fp)\n",
    "\n",
    "        for (idx_delta, delta) in enumerate(delta_list):\n",
    "            # max over S\n",
    "            tmp = lst[(epsilon, delta, idx_set)]\n",
    "            results['ARMUL'][idx_delta, s] = np.max( np.array(tmp['ARMUL']) )\n",
    "            results['STL'][idx_delta, s] = np.max( np.array(tmp['STL']) )\n",
    "            results['DP'][idx_delta, s] = np.max( np.array(tmp['DP']) )\n",
    "            if setting == 'clustered' or setting == 'lowrank':\n",
    "                results['baseline'][idx_delta, s] = np.max( np.array(tmp['baseline']) )\n",
    "\n",
    "    names = ['ARMUL', 'STL', 'DP', 'baseline']\n",
    "    Mean = dict()\n",
    "    SD = dict()\n",
    "\n",
    "    for name in names:\n",
    "        Mean[name] = np.zeros(11)\n",
    "        SD[name] = np.zeros(11)\n",
    "        for j in range(11):\n",
    "            SD[name][j] = np.std(results[name][j]) #/ np.sqrt( len(results[name][j]) )\n",
    "            Mean[name][j] = np.mean(results[name][j])\n",
    "    \n",
    "    plot_curves(axes[i], Mean['ARMUL'], SD['ARMUL'], delta_list, marker = '-', color = 'r')\n",
    "    plot_curves(axes[i], Mean['STL'], SD['STL'], delta_list, marker = '--', color = 'k')\n",
    "    plot_curves(axes[i], Mean['DP'], SD['DP'], delta_list, marker = '^-', color = 'b')\n",
    "    if setting == 'clustered' or setting == 'lowrank':\n",
    "        plot_curves(axes[i], Mean['baseline'], SD['baseline'], delta_list, marker = 'o-', color = 'c') \n",
    "    \n",
    "if epsilon == 0:\n",
    "    axes[0].set_title('Vanilla')\n",
    "    axes[1].set_title('Clustered')\n",
    "    axes[2].set_title('Low-rank')\n",
    "    fig.savefig('epsilon_0.pdf', format = 'pdf')\n",
    "else: # epsilon == 0.2\n",
    "    if idx_set == 'S':\n",
    "        axes[0].set_title('Vanilla (S)')\n",
    "        axes[1].set_title('Clustered (S)')\n",
    "        axes[2].set_title('Low-rank (S)')\n",
    "        fig.savefig('epsilon_2_S.pdf', format = 'pdf')\n",
    "    else: # idx_set == 'all'\n",
    "        axes[0].set_title('Vanilla (all)')\n",
    "        axes[1].set_title('Clustered (all)')\n",
    "        axes[2].set_title('Low-rank (all)')\n",
    "        fig.savefig('epsilon_2_all.pdf', format = 'pdf')\n",
    "    \n",
    "\n",
    "    "
   ]
  },
  {
   "cell_type": "code",
   "execution_count": 9,
   "id": "24983c3b",
   "metadata": {},
   "outputs": [
    {
     "data": {
      "text/plain": [
       "100"
      ]
     },
     "execution_count": 9,
     "metadata": {},
     "output_type": "execute_result"
    }
   ],
   "source": [
    "M"
   ]
  },
  {
   "cell_type": "code",
   "execution_count": null,
   "id": "caf3d12f",
   "metadata": {},
   "outputs": [],
   "source": []
  },
  {
   "cell_type": "code",
   "execution_count": null,
   "id": "70dd36cd",
   "metadata": {},
   "outputs": [],
   "source": []
  },
  {
   "cell_type": "code",
   "execution_count": null,
   "id": "ddbe6d5f",
   "metadata": {},
   "outputs": [],
   "source": []
  },
  {
   "cell_type": "code",
   "execution_count": null,
   "id": "5f0cee83",
   "metadata": {},
   "outputs": [],
   "source": []
  },
  {
   "cell_type": "code",
   "execution_count": null,
   "id": "b19264c4",
   "metadata": {},
   "outputs": [],
   "source": []
  },
  {
   "cell_type": "code",
   "execution_count": null,
   "id": "dec4bb32",
   "metadata": {},
   "outputs": [],
   "source": []
  },
  {
   "cell_type": "code",
   "execution_count": null,
   "id": "4845e216",
   "metadata": {},
   "outputs": [],
   "source": []
  },
  {
   "cell_type": "code",
   "execution_count": null,
   "id": "01135ebb",
   "metadata": {},
   "outputs": [],
   "source": []
  },
  {
   "cell_type": "code",
   "execution_count": 1,
   "id": "4e4c2172",
   "metadata": {},
   "outputs": [],
   "source": [
    "import numpy as np\n",
    "import matplotlib.pyplot as plt\n",
    "import pickle\n"
   ]
  },
  {
   "cell_type": "code",
   "execution_count": 12,
   "id": "c3abcc7a",
   "metadata": {},
   "outputs": [],
   "source": [
    "model = 'vanilla'\n",
    "\n",
    "#seed_list = [10000, 20000, 30000, 40000, 50000]\n",
    "\n",
    "#seed_list = [10000 + i * 1000 for i in range(10)] + [20000 + i * 1000 for i in range(10)]\n",
    "\n",
    "#'''\n",
    "I, S = 10, 5\n",
    "seed_list = []\n",
    "tmp = np.array(range(1, S + 1)) * 10000\n",
    "for idx in range(I):\n",
    "    for i in range(S):\n",
    "        seed_list.append( tmp[i] + idx * 1000 )    \n",
    "#'''\n",
    "\n",
    "#############################\n",
    "        \n",
    "path = 'real/' + model\n",
    "\n",
    "results = dict()\n",
    "for (j, seed) in enumerate(seed_list):\n",
    "    with open(path + '/{}.txt'.format(seed), \"rb\") as fp:\n",
    "        results[j] = pickle.load(fp)"
   ]
  },
  {
   "cell_type": "code",
   "execution_count": 13,
   "id": "f9f50747",
   "metadata": {},
   "outputs": [
    {
     "name": "stdout",
     "output_type": "stream",
     "text": [
      "0.010561797752808988 0.0020654394666409486\n"
     ]
    },
    {
     "data": {
      "image/png": "[encoded data removed]",
      "text/plain": [
       "<Figure size 432x288 with 1 Axes>"
      ]
     },
     "metadata": {
      "needs_background": "light"
     },
     "output_type": "display_data"
    }
   ],
   "source": [
    "M = len(seed_list)\n",
    "lst = np.zeros(M)\n",
    "\n",
    "tmp = ['vanilla', 'lowrank', 'clustered']\n",
    "S1 = set(tmp)\n",
    "tmp = ['STL', 'DP_base']\n",
    "S2 = set(tmp)\n",
    "\n",
    "for i in range(M):\n",
    "    if model in S1:\n",
    "        lst[i] = results[i][0][0]['average error']\n",
    "    else:       \n",
    "        lst[i] = results[i][0]['average error']\n",
    "\n",
    "plt.hist(lst)\n",
    "\n",
    "mu = np.mean(lst)\n",
    "sigma = np.std(lst)\n",
    "print(mu, sigma)\n",
    "\n",
    "# STL: 0.01933561309233024 0.003117491218757519\n",
    "# vanilla: 0.010561797752808988 0.0020654394666409486\n",
    "# DP: 0.034245236932095746 0.00319037457103189\n",
    "# clustered: 0.008265754763067906 0.002067633659624629\n",
    "# clustered_base: 0.021485100146555934 0.002936796325000805\n",
    "# lowrank: 0.007972642892037127 0.0018394310658702423\n",
    "# lowrank_base: 0.012525647288715192 0.002532323720541887"
   ]
  },
  {
   "cell_type": "code",
   "execution_count": 14,
   "id": "86d6b145",
   "metadata": {},
   "outputs": [
    {
     "data": {
      "text/plain": [
       "[[{'errors': array([0.        , 0.01666667, 0.        , 0.04761905, 0.        ,\n",
       "          0.03076923, 0.06557377, 0.        , 0.14035088, 0.03448276,\n",
       "          0.        , 0.015625  , 0.        , 0.015625  , 0.        ,\n",
       "          0.02739726, 0.02739726, 0.        , 0.        , 0.        ,\n",
       "          0.        , 0.        , 0.01351351, 0.        , 0.        ,\n",
       "          0.01282051, 0.01333333, 0.01315789, 0.        , 0.01315789]),\n",
       "   'average error': 0.015144113336590131},\n",
       "  array([0.01271419, 0.01125811, 0.01113909, 0.01077252, 0.01028631,\n",
       "         0.01137813, 0.01452729, 0.01864164, 0.02179985, 0.02531337])]]"
      ]
     },
     "execution_count": 14,
     "metadata": {},
     "output_type": "execute_result"
    }
   ],
   "source": [
    "# STL: 0.01933561309233024\n",
    "# vanilla: 0.01046409379579873\n",
    "\n",
    "results[0]"
   ]
  },
  {
   "cell_type": "code",
   "execution_count": null,
   "id": "2ee09bb9",
   "metadata": {},
   "outputs": [],
   "source": []
  },
  {
   "cell_type": "code",
   "execution_count": null,
   "id": "09c18053",
   "metadata": {},
   "outputs": [],
   "source": []
  },
  {
   "cell_type": "code",
   "execution_count": null,
   "id": "4d230a1b",
   "metadata": {},
   "outputs": [],
   "source": []
  },
  {
   "cell_type": "code",
   "execution_count": null,
   "id": "bded3ea6",
   "metadata": {},
   "outputs": [],
   "source": []
  },
  {
   "cell_type": "code",
   "execution_count": 15,
   "id": "15ef33d2",
   "metadata": {},
   "outputs": [
    {
     "name": "stdout",
     "output_type": "stream",
     "text": [
      "0.010286307296414053\n"
     ]
    },
    {
     "ename": "IndexError",
     "evalue": "list index out of range",
     "output_type": "error",
     "traceback": [
      "\u001b[0;31m---------------------------------------------------------------------------\u001b[0m",
      "\u001b[0;31mIndexError\u001b[0m                                Traceback (most recent call last)",
      "\u001b[0;32m<ipython-input-15-44d29ec7a79b>\u001b[0m in \u001b[0;36m<module>\u001b[0;34m\u001b[0m\n\u001b[1;32m     11\u001b[0m \u001b[0;34m\u001b[0m\u001b[0m\n\u001b[1;32m     12\u001b[0m \u001b[0mK\u001b[0m \u001b[0;34m=\u001b[0m \u001b[0;36m2\u001b[0m\u001b[0;34m\u001b[0m\u001b[0;34m\u001b[0m\u001b[0m\n\u001b[0;32m---> 13\u001b[0;31m \u001b[0mtmp\u001b[0m \u001b[0;34m=\u001b[0m \u001b[0mres\u001b[0m\u001b[0;34m[\u001b[0m\u001b[0ms\u001b[0m\u001b[0;34m]\u001b[0m\u001b[0;34m[\u001b[0m\u001b[0mK\u001b[0m \u001b[0;34m-\u001b[0m \u001b[0;36m1\u001b[0m\u001b[0;34m]\u001b[0m\u001b[0;34m[\u001b[0m\u001b[0;36m1\u001b[0m\u001b[0;34m]\u001b[0m\u001b[0;34m\u001b[0m\u001b[0;34m\u001b[0m\u001b[0m\n\u001b[0m\u001b[1;32m     14\u001b[0m \u001b[0mplt\u001b[0m\u001b[0;34m.\u001b[0m\u001b[0mplot\u001b[0m\u001b[0;34m(\u001b[0m\u001b[0mlbd\u001b[0m\u001b[0;34m,\u001b[0m \u001b[0mtmp\u001b[0m\u001b[0;34m,\u001b[0m \u001b[0;34m'b'\u001b[0m\u001b[0;34m)\u001b[0m\u001b[0;34m\u001b[0m\u001b[0;34m\u001b[0m\u001b[0m\n\u001b[1;32m     15\u001b[0m \u001b[0mprint\u001b[0m\u001b[0;34m(\u001b[0m\u001b[0mmin\u001b[0m\u001b[0;34m(\u001b[0m\u001b[0mtmp\u001b[0m\u001b[0;34m)\u001b[0m\u001b[0;34m)\u001b[0m\u001b[0;34m\u001b[0m\u001b[0;34m\u001b[0m\u001b[0m\n",
      "\u001b[0;31mIndexError\u001b[0m: list index out of range"
     ]
    },
    {
     "data": {
      "image/png": "[encoded data removed]",
      "text/plain": [
       "<Figure size 432x288 with 1 Axes>"
      ]
     },
     "metadata": {
      "needs_background": "light"
     },
     "output_type": "display_data"
    }
   ],
   "source": [
    "s = 0 # seed index\n",
    "res = results\n",
    "\n",
    "L = 10\n",
    "lbd = np.array([(0.5 * i / L) for i in range(1, L + 1)])\n",
    "\n",
    "K = 1\n",
    "tmp = res[s][K - 1][1]\n",
    "plt.plot(lbd, tmp, 'b')\n",
    "print(min(tmp))\n",
    "\n",
    "K = 2\n",
    "tmp = res[s][K - 1][1]\n",
    "plt.plot(lbd, tmp, 'b')\n",
    "print(min(tmp))\n",
    "\n",
    "K = 3\n",
    "tmp = res[s][K - 1][1]\n",
    "plt.plot(lbd, tmp, 'c')\n",
    "print(min(tmp))\n",
    "\n",
    "K = 4\n",
    "tmp = res[s][K - 1][1]\n",
    "plt.plot(lbd, tmp, 'k')\n",
    "print(min(tmp))\n",
    "\n",
    "K = 5\n",
    "tmp = res[s][K - 1][1]\n",
    "plt.plot(lbd, tmp, 'g')\n",
    "print(min(tmp))"
   ]
  },
  {
   "cell_type": "code",
   "execution_count": null,
   "id": "16aa41e2",
   "metadata": {},
   "outputs": [],
   "source": []
  }
 ],
 "metadata": {
  "kernelspec": {
   "display_name": "Python 3 (ipykernel)",
   "language": "python",
   "name": "python3"
  },
  "language_info": {
   "codemirror_mode": {
    "name": "ipython",
    "version": 3
   },
   "file_extension": ".py",
   "mimetype": "text/x-python",
   "name": "python",
   "nbconvert_exporter": "python",
   "pygments_lexer": "ipython3",
   "version": "3.8.17"
  }
 },
 "nbformat": 4,
 "nbformat_minor": 5
}
